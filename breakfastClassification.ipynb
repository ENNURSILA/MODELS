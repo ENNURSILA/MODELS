{
  "cells": [
    {
      "cell_type": "code",
      "execution_count": 1,
      "metadata": {
        "id": "zEiiwBg7Symk"
      },
      "outputs": [],
      "source": [
        "import tensorflow as tf\n",
        "\n",
        "import cv2\n",
        "\n",
        "import numpy as np\n",
        "\n",
        "import os\n",
        "\n",
        "from tensorflow.keras.preprocessing.image import ImageDataGenerator\n",
        "\n",
        "from keras.layers import Dense,Flatten,Conv2D,Activation,Dropout\n",
        "\n",
        "from keras import backend as K\n",
        "\n",
        "import keras\n",
        "\n",
        "from keras.models import Sequential, Model\n",
        "\n",
        "from keras.models import load_model\n",
        "\n",
        "from keras.optimizers import SGD\n",
        "\n",
        "from keras.callbacks import EarlyStopping,ModelCheckpoint\n",
        "\n",
        "from keras.layers import MaxPool2D\n",
        "\n",
        "from google.colab.patches import cv2_imshow"
      ]
    },
    {
      "cell_type": "code",
      "execution_count": 2,
      "metadata": {
        "colab": {
          "base_uri": "https://localhost:8080/"
        },
        "id": "o6LJdL7hTMcZ",
        "outputId": "5f1fff0e-79aa-4b89-de11-4ae49bd1025f"
      },
      "outputs": [
        {
          "name": "stdout",
          "output_type": "stream",
          "text": [
            "Mounted at /content/drive\n"
          ]
        }
      ],
      "source": [
        "from google.colab import drive\n",
        "drive.mount('/content/drive')"
      ]
    },
    {
      "cell_type": "code",
      "execution_count": 3,
      "metadata": {
        "id": "A-3I7rk5TRiw"
      },
      "outputs": [],
      "source": [
        "import shutil\n",
        "shutil.unpack_archive(\"/content/drive/MyDrive/breakfastType.zip\", \"breakfastType/\")"
      ]
    },
    {
      "cell_type": "code",
      "execution_count": 4,
      "metadata": {
        "colab": {
          "base_uri": "https://localhost:8080/"
        },
        "id": "FlRYkAkrTxke",
        "outputId": "936377a6-3102-49db-f39b-81cbe273c1a7"
      },
      "outputs": [
        {
          "name": "stdout",
          "output_type": "stream",
          "text": [
            "Found 2088 images belonging to 4 classes.\n",
            "Found 54 images belonging to 4 classes.\n"
          ]
        }
      ],
      "source": [
        "train_datagen = ImageDataGenerator(zoom_range=0.15,width_shift_range=0.2,height_shift_range=0.2,shear_range=0.15)\n",
        "\n",
        "test_datagen = ImageDataGenerator()\n",
        "\n",
        "train_generator = train_datagen.flow_from_directory(\"/content/breakfastType/breakfastType/train\",target_size=(224, 224),batch_size=32,shuffle=True,class_mode='categorical')\n",
        "\n",
        "test_generator = test_datagen.flow_from_directory(\"/content/breakfastType/breakfastType/test\",target_size=(224,224),batch_size=32,shuffle=False,class_mode='categorical')"
      ]
    },
    {
      "cell_type": "code",
      "execution_count": 5,
      "metadata": {
        "id": "oLYNdqESTuvn"
      },
      "outputs": [],
      "source": [
        "def VGG16():\n",
        "\n",
        "  model = Sequential()\n",
        "\n",
        "  model.add(Conv2D(input_shape=(224,224,3),filters=64,kernel_size=(3,3),padding=\"same\", activation=\"relu\"))\n",
        "\n",
        "  model.add(Conv2D(filters=64,kernel_size=(3,3),padding=\"same\", activation=\"relu\"))\n",
        "\n",
        "  model.add(MaxPool2D(pool_size=(2,2),strides=(2,2)))\n",
        "\n",
        "  model.add(Conv2D(filters=128, kernel_size=(3,3), padding=\"same\", activation=\"relu\"))\n",
        "\n",
        "  model.add(Conv2D(filters=128, kernel_size=(3,3), padding=\"same\", activation=\"relu\"))\n",
        "\n",
        "  model.add(MaxPool2D(pool_size=(2,2),strides=(2,2)))\n",
        "\n",
        "  model.add(Conv2D(filters=256, kernel_size=(3,3), padding=\"same\", activation=\"relu\"))\n",
        "\n",
        "  model.add(Conv2D(filters=256, kernel_size=(3,3), padding=\"same\", activation=\"relu\"))\n",
        "\n",
        "  model.add(Conv2D(filters=256, kernel_size=(3,3), padding=\"same\", activation=\"relu\"))\n",
        "\n",
        "  model.add(MaxPool2D(pool_size=(2,2),strides=(2,2)))\n",
        "\n",
        "  model.add(Conv2D(filters=512, kernel_size=(3,3), padding=\"same\", activation=\"relu\"))\n",
        "\n",
        "  model.add(Conv2D(filters=512, kernel_size=(3,3), padding=\"same\", activation=\"relu\"))\n",
        "\n",
        "  model.add(Conv2D(filters=512, kernel_size=(3,3), padding=\"same\", activation=\"relu\"))\n",
        "\n",
        "  model.add(MaxPool2D(pool_size=(2,2),strides=(2,2)))\n",
        "\n",
        "  model.add(Conv2D(filters=512, kernel_size=(3,3), padding=\"same\", activation=\"relu\"))\n",
        "\n",
        "  model.add(Conv2D(filters=512, kernel_size=(3,3), padding=\"same\", activation=\"relu\"))\n",
        "\n",
        "  model.add(Conv2D(filters=512, kernel_size=(3,3), padding=\"same\", activation=\"relu\"))\n",
        "\n",
        "  model.add(MaxPool2D(pool_size=(2,2),strides=(2,2),name='vgg16'))\n",
        "\n",
        "  model.add(Flatten(name='flatten'))\n",
        "\n",
        "  model.add(Dense(256, activation='relu', name='fc1'))\n",
        "\n",
        "  model.add(Dense(128, activation='relu', name='fc2'))\n",
        "\n",
        "  model.add(Dense(4, activation='softmax', name='output'))\n",
        "\n",
        "  return model"
      ]
    },
    {
      "cell_type": "code",
      "execution_count": 6,
      "metadata": {
        "colab": {
          "base_uri": "https://localhost:8080/"
        },
        "id": "EFMHHiO0Tu4k",
        "outputId": "09c58d0e-b649-4465-e83c-f46d1c3a30c8"
      },
      "outputs": [
        {
          "name": "stdout",
          "output_type": "stream",
          "text": [
            "Model: \"sequential\"\n",
            "_________________________________________________________________\n",
            " Layer (type)                Output Shape              Param #   \n",
            "=================================================================\n",
            " conv2d (Conv2D)             (None, 224, 224, 64)      1792      \n",
            "                                                                 \n",
            " conv2d_1 (Conv2D)           (None, 224, 224, 64)      36928     \n",
            "                                                                 \n",
            " max_pooling2d (MaxPooling2  (None, 112, 112, 64)      0         \n",
            " D)                                                              \n",
            "                                                                 \n",
            " conv2d_2 (Conv2D)           (None, 112, 112, 128)     73856     \n",
            "                                                                 \n",
            " conv2d_3 (Conv2D)           (None, 112, 112, 128)     147584    \n",
            "                                                                 \n",
            " max_pooling2d_1 (MaxPoolin  (None, 56, 56, 128)       0         \n",
            " g2D)                                                            \n",
            "                                                                 \n",
            " conv2d_4 (Conv2D)           (None, 56, 56, 256)       295168    \n",
            "                                                                 \n",
            " conv2d_5 (Conv2D)           (None, 56, 56, 256)       590080    \n",
            "                                                                 \n",
            " conv2d_6 (Conv2D)           (None, 56, 56, 256)       590080    \n",
            "                                                                 \n",
            " max_pooling2d_2 (MaxPoolin  (None, 28, 28, 256)       0         \n",
            " g2D)                                                            \n",
            "                                                                 \n",
            " conv2d_7 (Conv2D)           (None, 28, 28, 512)       1180160   \n",
            "                                                                 \n",
            " conv2d_8 (Conv2D)           (None, 28, 28, 512)       2359808   \n",
            "                                                                 \n",
            " conv2d_9 (Conv2D)           (None, 28, 28, 512)       2359808   \n",
            "                                                                 \n",
            " max_pooling2d_3 (MaxPoolin  (None, 14, 14, 512)       0         \n",
            " g2D)                                                            \n",
            "                                                                 \n",
            " conv2d_10 (Conv2D)          (None, 14, 14, 512)       2359808   \n",
            "                                                                 \n",
            " conv2d_11 (Conv2D)          (None, 14, 14, 512)       2359808   \n",
            "                                                                 \n",
            " conv2d_12 (Conv2D)          (None, 14, 14, 512)       2359808   \n",
            "                                                                 \n",
            " vgg16 (MaxPooling2D)        (None, 7, 7, 512)         0         \n",
            "                                                                 \n",
            " flatten (Flatten)           (None, 25088)             0         \n",
            "                                                                 \n",
            " fc1 (Dense)                 (None, 256)               6422784   \n",
            "                                                                 \n",
            " fc2 (Dense)                 (None, 128)               32896     \n",
            "                                                                 \n",
            " output (Dense)              (None, 4)                 516       \n",
            "                                                                 \n",
            "=================================================================\n",
            "Total params: 21170884 (80.76 MB)\n",
            "Trainable params: 21170884 (80.76 MB)\n",
            "Non-trainable params: 0 (0.00 Byte)\n",
            "_________________________________________________________________\n"
          ]
        }
      ],
      "source": [
        "\n",
        "model=VGG16()\n",
        "\n",
        "model.summary()\n",
        "\n",
        "Vgg16 = Model(inputs=model.input, outputs=model.get_layer('vgg16').output)\n"
      ]
    },
    {
      "cell_type": "code",
      "execution_count": 7,
      "metadata": {
        "id": "G7uCRqTOVilq"
      },
      "outputs": [],
      "source": [
        "es=EarlyStopping(monitor='val_accuracy', mode='max', verbose=1, patience=20)"
      ]
    },
    {
      "cell_type": "code",
      "execution_count": 8,
      "metadata": {
        "id": "Rfpq41WhVnwu"
      },
      "outputs": [],
      "source": [
        "opt = SGD(learning_rate=1e-6, momentum=0.9)\n",
        "\n",
        "model.compile(loss=\"categorical_crossentropy\", optimizer=opt,metrics=[\"accuracy\"])"
      ]
    },
    {
      "cell_type": "code",
      "execution_count": 9,
      "metadata": {
        "colab": {
          "base_uri": "https://localhost:8080/"
        },
        "id": "5bMKJUI8V2Tw",
        "outputId": "7d429c28-2d6e-4b99-8358-d9f414c2ee66"
      },
      "outputs": [
        {
          "name": "stdout",
          "output_type": "stream",
          "text": [
            "<keras.src.layers.convolutional.conv2d.Conv2D object at 0x7ff30db1d900> False\n",
            "<keras.src.layers.convolutional.conv2d.Conv2D object at 0x7ff30dfdb9d0> False\n",
            "<keras.src.layers.pooling.max_pooling2d.MaxPooling2D object at 0x7ff30dfdb6d0> False\n",
            "<keras.src.layers.convolutional.conv2d.Conv2D object at 0x7ff305f18dc0> False\n",
            "<keras.src.layers.convolutional.conv2d.Conv2D object at 0x7ff305f19540> False\n",
            "<keras.src.layers.pooling.max_pooling2d.MaxPooling2D object at 0x7ff30db1e590> False\n",
            "<keras.src.layers.convolutional.conv2d.Conv2D object at 0x7ff305f1a350> False\n",
            "<keras.src.layers.convolutional.conv2d.Conv2D object at 0x7ff305f1b370> False\n",
            "<keras.src.layers.convolutional.conv2d.Conv2D object at 0x7ff305f1b3a0> False\n",
            "<keras.src.layers.pooling.max_pooling2d.MaxPooling2D object at 0x7ff305f1b190> False\n",
            "<keras.src.layers.convolutional.conv2d.Conv2D object at 0x7ff305f85630> False\n",
            "<keras.src.layers.convolutional.conv2d.Conv2D object at 0x7ff305f86830> False\n",
            "<keras.src.layers.convolutional.conv2d.Conv2D object at 0x7ff305f868c0> False\n",
            "<keras.src.layers.pooling.max_pooling2d.MaxPooling2D object at 0x7ff305f1bbb0> False\n",
            "<keras.src.layers.convolutional.conv2d.Conv2D object at 0x7ff305f84070> False\n",
            "<keras.src.layers.convolutional.conv2d.Conv2D object at 0x7ff305f85510> False\n",
            "<keras.src.layers.convolutional.conv2d.Conv2D object at 0x7ff305f18610> False\n",
            "<keras.src.layers.pooling.max_pooling2d.MaxPooling2D object at 0x7ff305f18550> False\n",
            "<keras.src.layers.reshaping.flatten.Flatten object at 0x7ff30dfdb250> True\n",
            "<keras.src.layers.core.dense.Dense object at 0x7ff305f91b40> True\n",
            "<keras.src.layers.core.dense.Dense object at 0x7ff305f92980> True\n",
            "<keras.src.layers.core.dense.Dense object at 0x7ff305f91f30> True\n"
          ]
        }
      ],
      "source": [
        "for layer in Vgg16.layers:\n",
        "\n",
        "    layer.trainable = False\n",
        "\n",
        "for layer in model.layers:\n",
        "\n",
        "    print(layer, layer.trainable)"
      ]
    },
    {
      "cell_type": "code",
      "execution_count": 10,
      "metadata": {
        "id": "awvrDk-oV_4X"
      },
      "outputs": [],
      "source": [
        "mc = ModelCheckpoint('/content/drive/MyDrive/vgg16_best_modeli_1.h5', monitor='val_accuracy', mode='max', save_best_only=True)"
      ]
    },
    {
      "cell_type": "code",
      "execution_count": 11,
      "metadata": {
        "colab": {
          "base_uri": "https://localhost:8080/"
        },
        "id": "z2mKA5KlWVMZ",
        "outputId": "c431ff12-2bf6-48bc-fa40-287b216572e1"
      },
      "outputs": [
        {
          "name": "stderr",
          "output_type": "stream",
          "text": [
            "<ipython-input-11-a80656c21635>:1: UserWarning: `Model.fit_generator` is deprecated and will be removed in a future version. Please use `Model.fit`, which supports generators.\n",
            "  H = model.fit_generator(train_generator,validation_data=test_generator,epochs=50,verbose=1,callbacks=[mc])\n"
          ]
        },
        {
          "name": "stdout",
          "output_type": "stream",
          "text": [
            "Epoch 1/50\n",
            "66/66 [==============================] - ETA: 0s - loss: 1.2912 - accuracy: 0.3338"
          ]
        },
        {
          "name": "stderr",
          "output_type": "stream",
          "text": [
            "/usr/local/lib/python3.10/dist-packages/keras/src/engine/training.py:3103: UserWarning: You are saving your model as an HDF5 file via `model.save()`. This file format is considered legacy. We recommend using instead the native Keras format, e.g. `model.save('my_model.keras')`.\n",
            "  saving_api.save_model(\n"
          ]
        },
        {
          "name": "stdout",
          "output_type": "stream",
          "text": [
            "\b\b\b\b\b\b\b\b\b\b\b\b\b\b\b\b\b\b\b\b\b\b\b\b\b\b\b\b\b\b\b\b\b\b\b\b\b\b\b\b\b\b\b\b\b\b\b\b\b\b\b\b\b\b\b\b\b\b\b\b\b\b\b\b\b\b\b\b\b\b\b\b\b\b\b\b\b\b\b\b\b\b\r66/66 [==============================] - 77s 821ms/step - loss: 1.2912 - accuracy: 0.3338 - val_loss: 1.4174 - val_accuracy: 0.1481\n",
            "Epoch 2/50\n",
            "66/66 [==============================] - 38s 569ms/step - loss: 1.2194 - accuracy: 0.3218 - val_loss: 1.3591 - val_accuracy: 0.1481\n",
            "Epoch 3/50\n",
            "66/66 [==============================] - 38s 568ms/step - loss: 1.1810 - accuracy: 0.3611 - val_loss: 1.3205 - val_accuracy: 0.1481\n",
            "Epoch 4/50\n",
            "66/66 [==============================] - 41s 624ms/step - loss: 1.1439 - accuracy: 0.4076 - val_loss: 1.2828 - val_accuracy: 0.2037\n",
            "Epoch 5/50\n",
            "66/66 [==============================] - 39s 591ms/step - loss: 1.1069 - accuracy: 0.4698 - val_loss: 1.2464 - val_accuracy: 0.2407\n",
            "Epoch 6/50\n",
            "66/66 [==============================] - 41s 612ms/step - loss: 1.0753 - accuracy: 0.5354 - val_loss: 1.2009 - val_accuracy: 0.4259\n",
            "Epoch 7/50\n",
            "66/66 [==============================] - 41s 612ms/step - loss: 1.0414 - accuracy: 0.5613 - val_loss: 1.1598 - val_accuracy: 0.5185\n",
            "Epoch 8/50\n",
            "66/66 [==============================] - 38s 579ms/step - loss: 1.0070 - accuracy: 0.6580 - val_loss: 1.1265 - val_accuracy: 0.5000\n",
            "Epoch 9/50\n",
            "66/66 [==============================] - 38s 579ms/step - loss: 0.9748 - accuracy: 0.6422 - val_loss: 1.0839 - val_accuracy: 0.6111\n",
            "Epoch 10/50\n",
            "66/66 [==============================] - 39s 587ms/step - loss: 0.9409 - accuracy: 0.6901 - val_loss: 1.0502 - val_accuracy: 0.6296\n",
            "Epoch 11/50\n",
            "66/66 [==============================] - 41s 619ms/step - loss: 0.9120 - accuracy: 0.7328 - val_loss: 1.0156 - val_accuracy: 0.6481\n",
            "Epoch 12/50\n",
            "66/66 [==============================] - 37s 564ms/step - loss: 0.8799 - accuracy: 0.7672 - val_loss: 0.9851 - val_accuracy: 0.6481\n",
            "Epoch 13/50\n",
            "66/66 [==============================] - 41s 621ms/step - loss: 0.8426 - accuracy: 0.7716 - val_loss: 0.9438 - val_accuracy: 0.7963\n",
            "Epoch 14/50\n",
            "66/66 [==============================] - 37s 564ms/step - loss: 0.8159 - accuracy: 0.8080 - val_loss: 0.9150 - val_accuracy: 0.7778\n",
            "Epoch 15/50\n",
            "66/66 [==============================] - 41s 612ms/step - loss: 0.7857 - accuracy: 0.8008 - val_loss: 0.8740 - val_accuracy: 0.8519\n",
            "Epoch 16/50\n",
            "66/66 [==============================] - 39s 589ms/step - loss: 0.7585 - accuracy: 0.8300 - val_loss: 0.8464 - val_accuracy: 0.8704\n",
            "Epoch 17/50\n",
            "66/66 [==============================] - 38s 578ms/step - loss: 0.7289 - accuracy: 0.8578 - val_loss: 0.8161 - val_accuracy: 0.8148\n",
            "Epoch 18/50\n",
            "66/66 [==============================] - 40s 607ms/step - loss: 0.6992 - accuracy: 0.8640 - val_loss: 0.7768 - val_accuracy: 0.9074\n",
            "Epoch 19/50\n",
            "66/66 [==============================] - 38s 568ms/step - loss: 0.6757 - accuracy: 0.8798 - val_loss: 0.7530 - val_accuracy: 0.8889\n",
            "Epoch 20/50\n",
            "66/66 [==============================] - 40s 607ms/step - loss: 0.6422 - accuracy: 0.8760 - val_loss: 0.7102 - val_accuracy: 0.9444\n",
            "Epoch 21/50\n",
            "66/66 [==============================] - 38s 577ms/step - loss: 0.6200 - accuracy: 0.8966 - val_loss: 0.6822 - val_accuracy: 0.9444\n",
            "Epoch 22/50\n",
            "66/66 [==============================] - 38s 579ms/step - loss: 0.5887 - accuracy: 0.8980 - val_loss: 0.6437 - val_accuracy: 0.9630\n",
            "Epoch 23/50\n",
            "66/66 [==============================] - 38s 566ms/step - loss: 0.5710 - accuracy: 0.8975 - val_loss: 0.6125 - val_accuracy: 0.9630\n",
            "Epoch 24/50\n",
            "66/66 [==============================] - 38s 566ms/step - loss: 0.5436 - accuracy: 0.9104 - val_loss: 0.5847 - val_accuracy: 0.9630\n",
            "Epoch 25/50\n",
            "66/66 [==============================] - 38s 569ms/step - loss: 0.5142 - accuracy: 0.9239 - val_loss: 0.5570 - val_accuracy: 0.9630\n",
            "Epoch 26/50\n",
            "66/66 [==============================] - 38s 574ms/step - loss: 0.4961 - accuracy: 0.9267 - val_loss: 0.5290 - val_accuracy: 0.9630\n",
            "Epoch 27/50\n",
            "66/66 [==============================] - 37s 561ms/step - loss: 0.4766 - accuracy: 0.9186 - val_loss: 0.4988 - val_accuracy: 0.9630\n",
            "Epoch 28/50\n",
            "66/66 [==============================] - 49s 739ms/step - loss: 0.4491 - accuracy: 0.9387 - val_loss: 0.4796 - val_accuracy: 0.9630\n",
            "Epoch 29/50\n",
            "66/66 [==============================] - 38s 580ms/step - loss: 0.4310 - accuracy: 0.9358 - val_loss: 0.4459 - val_accuracy: 0.9815\n",
            "Epoch 30/50\n",
            "66/66 [==============================] - 38s 571ms/step - loss: 0.4055 - accuracy: 0.9420 - val_loss: 0.4275 - val_accuracy: 0.9815\n",
            "Epoch 31/50\n",
            "66/66 [==============================] - 39s 584ms/step - loss: 0.3851 - accuracy: 0.9507 - val_loss: 0.4060 - val_accuracy: 0.9815\n",
            "Epoch 32/50\n",
            "66/66 [==============================] - 38s 569ms/step - loss: 0.3770 - accuracy: 0.9411 - val_loss: 0.3802 - val_accuracy: 0.9815\n",
            "Epoch 33/50\n",
            "66/66 [==============================] - 39s 583ms/step - loss: 0.3485 - accuracy: 0.9516 - val_loss: 0.3620 - val_accuracy: 0.9815\n",
            "Epoch 34/50\n",
            "66/66 [==============================] - 37s 554ms/step - loss: 0.3408 - accuracy: 0.9531 - val_loss: 0.3477 - val_accuracy: 0.9815\n",
            "Epoch 35/50\n",
            "66/66 [==============================] - 37s 558ms/step - loss: 0.3294 - accuracy: 0.9545 - val_loss: 0.3318 - val_accuracy: 0.9815\n",
            "Epoch 36/50\n",
            "66/66 [==============================] - 38s 570ms/step - loss: 0.3043 - accuracy: 0.9598 - val_loss: 0.3095 - val_accuracy: 0.9815\n",
            "Epoch 37/50\n",
            "66/66 [==============================] - 37s 553ms/step - loss: 0.3057 - accuracy: 0.9540 - val_loss: 0.2992 - val_accuracy: 0.9815\n",
            "Epoch 38/50\n",
            "66/66 [==============================] - 38s 571ms/step - loss: 0.2801 - accuracy: 0.9631 - val_loss: 0.2841 - val_accuracy: 0.9815\n",
            "Epoch 39/50\n",
            "66/66 [==============================] - 38s 576ms/step - loss: 0.2724 - accuracy: 0.9622 - val_loss: 0.2724 - val_accuracy: 0.9815\n",
            "Epoch 40/50\n",
            "66/66 [==============================] - 37s 561ms/step - loss: 0.2628 - accuracy: 0.9660 - val_loss: 0.2574 - val_accuracy: 0.9815\n",
            "Epoch 41/50\n",
            "66/66 [==============================] - 38s 578ms/step - loss: 0.2545 - accuracy: 0.9693 - val_loss: 0.2470 - val_accuracy: 0.9815\n",
            "Epoch 42/50\n",
            "66/66 [==============================] - 37s 564ms/step - loss: 0.2405 - accuracy: 0.9698 - val_loss: 0.2358 - val_accuracy: 0.9815\n",
            "Epoch 43/50\n",
            "66/66 [==============================] - 39s 592ms/step - loss: 0.2256 - accuracy: 0.9722 - val_loss: 0.2202 - val_accuracy: 0.9815\n",
            "Epoch 44/50\n",
            "66/66 [==============================] - 37s 560ms/step - loss: 0.2193 - accuracy: 0.9737 - val_loss: 0.2085 - val_accuracy: 0.9815\n",
            "Epoch 45/50\n",
            "66/66 [==============================] - 37s 555ms/step - loss: 0.2159 - accuracy: 0.9713 - val_loss: 0.2036 - val_accuracy: 0.9815\n",
            "Epoch 46/50\n",
            "66/66 [==============================] - 39s 592ms/step - loss: 0.2020 - accuracy: 0.9756 - val_loss: 0.1912 - val_accuracy: 0.9815\n",
            "Epoch 47/50\n",
            "66/66 [==============================] - 37s 560ms/step - loss: 0.1985 - accuracy: 0.9756 - val_loss: 0.1830 - val_accuracy: 0.9815\n",
            "Epoch 48/50\n",
            "66/66 [==============================] - 38s 572ms/step - loss: 0.1975 - accuracy: 0.9737 - val_loss: 0.1798 - val_accuracy: 0.9815\n",
            "Epoch 49/50\n",
            "66/66 [==============================] - 37s 546ms/step - loss: 0.1842 - accuracy: 0.9737 - val_loss: 0.1721 - val_accuracy: 0.9815\n",
            "Epoch 50/50\n",
            "66/66 [==============================] - 38s 577ms/step - loss: 0.1792 - accuracy: 0.9780 - val_loss: 0.1611 - val_accuracy: 0.9815\n"
          ]
        }
      ],
      "source": [
        "H = model.fit_generator(train_generator,validation_data=test_generator,epochs=50,verbose=1,callbacks=[mc])"
      ]
    },
    {
      "cell_type": "code",
      "execution_count": 12,
      "metadata": {
        "colab": {
          "base_uri": "https://localhost:8080/"
        },
        "id": "BvA6SayaWcXC",
        "outputId": "30d31aa8-e1d2-45e2-8759-4f84dced7ea3"
      },
      "outputs": [
        {
          "data": {
            "text/plain": [
              "84693420"
            ]
          },
          "execution_count": 12,
          "metadata": {},
          "output_type": "execute_result"
        }
      ],
      "source": [
        "import tensorflow as tf\n",
        "\n",
        "model = tf.keras.models.load_model('/content/drive/MyDrive/vgg16_best_modeli_1.h5')\n",
        "converter = tf.lite.TFLiteConverter.from_keras_model(model)\n",
        "tflite_model = converter.convert()\n",
        "open(\"breakfast.tflite\", \"wb\").write(tflite_model)"
      ]
    },
    {
      "cell_type": "code",
      "execution_count": 13,
      "metadata": {
        "colab": {
          "base_uri": "https://localhost:8080/"
        },
        "id": "0kUX9p5tTIBF",
        "outputId": "e070d386-5eb3-4f7c-dd01-ecd12ee9722a"
      },
      "outputs": [
        {
          "name": "stdout",
          "output_type": "stream",
          "text": [
            "Collecting keras.preprocessing\n",
            "  Downloading Keras_Preprocessing-1.1.2-py2.py3-none-any.whl (42 kB)\n",
            "\u001b[2K     \u001b[90m━━━━━━━━━━━━━━━━━━━━━━━━━━━━━━━━━━━━━━━━\u001b[0m \u001b[32m42.6/42.6 kB\u001b[0m \u001b[31m915.5 kB/s\u001b[0m eta \u001b[36m0:00:00\u001b[0m\n",
            "\u001b[?25hRequirement already satisfied: numpy>=1.9.1 in /usr/local/lib/python3.10/dist-packages (from keras.preprocessing) (1.23.5)\n",
            "Requirement already satisfied: six>=1.9.0 in /usr/local/lib/python3.10/dist-packages (from keras.preprocessing) (1.16.0)\n",
            "Installing collected packages: keras.preprocessing\n",
            "Successfully installed keras.preprocessing-1.1.2\n"
          ]
        }
      ],
      "source": [
        "pip install keras.preprocessing"
      ]
    },
    {
      "cell_type": "code",
      "execution_count": 21,
      "metadata": {
        "colab": {
          "base_uri": "https://localhost:8080/"
        },
        "id": "Gsy4tm6brfz3",
        "outputId": "d1d76b3b-ea11-4a8e-9d3a-bfb448cc0c4b"
      },
      "outputs": [
        {
          "name": "stdout",
          "output_type": "stream",
          "text": [
            "1/1 [==============================] - 0s 18ms/step\n",
            "olives\n"
          ]
        }
      ],
      "source": [
        "from keras.preprocessing import image\n",
        "from keras.applications.vgg16 import preprocess_input, decode_predictions\n",
        "import numpy as np\n",
        "img_path = '/content/test.jpg'\n",
        "img = image.load_img(img_path, target_size=(224, 224))\n",
        "x = image.img_to_array(img)\n",
        "x = np.expand_dims(x, axis=0)\n",
        "x = preprocess_input(x)\n",
        "\n",
        "preds=model.predict(x)\n",
        "# create a list containing the class labels\n",
        "class_labels = ['tomato','cheese','cucumber','olives']\n",
        "\n",
        "# find the index of the class with maximum score\n",
        "pred = np.argmax(preds, axis=-1)\n",
        "\n",
        "# print the label of the class with maximum score\n",
        "print(class_labels[pred[0]])"
      ]
    }
  ],
  "metadata": {
    "accelerator": "GPU",
    "colab": {
      "gpuType": "T4",
      "provenance": []
    },
    "kernelspec": {
      "display_name": "Python 3",
      "name": "python3"
    },
    "language_info": {
      "name": "python"
    }
  },
  "nbformat": 4,
  "nbformat_minor": 0
}
